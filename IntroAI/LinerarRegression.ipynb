{
 "cells": [
  {
   "cell_type": "code",
   "execution_count": 1,
   "metadata": {},
   "outputs": [],
   "source": [
    "import numpy as np"
   ]
  },
  {
   "cell_type": "code",
   "execution_count": 2,
   "metadata": {},
   "outputs": [
    {
     "name": "stdout",
     "output_type": "stream",
     "text": [
      "1000\n"
     ]
    }
   ],
   "source": [
    "# DATA를 저장하기 위한 리스트\n",
    "vector_set =[]\n",
    "\n",
    "# 파일을 열어서 vector_set에 저장한다\n",
    "with open('plots.txt') as f:\n",
    "    for line in f:\n",
    "      vector_set.append(line.strip().split('\\t'))\n",
    "num_points = len(vector_set) \n",
    "print(num_points)\n",
    "\n",
    "\n",
    "# numpy array 로 변환\n",
    "# (x1, x2) (y)\n",
    "x_data = np.array([ [ float(v[0]), float(v[1]), 1.0] for v in vector_set])\n",
    "y_data = np.array([ [float(v[2])] for v in vector_set])"
   ]
  },
  {
   "cell_type": "code",
   "execution_count": 3,
   "metadata": {},
   "outputs": [
    {
     "name": "stdout",
     "output_type": "stream",
     "text": [
      "0 [[ 0.71955298 -0.55299364  0.80699257]] 0.5344474806588642\n",
      "100 [[ 0.46243313 -0.31022215  0.17345924]] 0.002280161754179155\n",
      "200 [[ 0.41169198 -0.30049035  0.17059644]] 0.0009308419003750292\n",
      "300 [[ 0.40129052 -0.30023517  0.17068926]] 0.0008775793786144017\n",
      "400 [[ 0.39914939 -0.30026838  0.17070894]] 0.0008753256722715061\n",
      "500 [[ 0.39870825 -0.30027949  0.17071283]] 0.0008752299775011992\n",
      "600 [[ 0.39861735 -0.300282    0.17071362]] 0.0008752259133692575\n",
      "700 [[ 0.39859862 -0.30028252  0.17071378]] 0.0008752257407645674\n",
      "800 [[ 0.39859476 -0.30028263  0.17071381]] 0.0008752257334339982\n",
      "900 [[ 0.39859396 -0.30028265  0.17071382]] 0.0008752257331226667\n",
      "999 [[ 0.3985938  -0.30028266  0.17071382]] 0.0008752257331094634\n"
     ]
    }
   ],
   "source": [
    "# 결정해야 하는 parameters W1, W2, b \n",
    "# dimension: 3 X 1  [W1, W2, b(W3)]\n",
    "# standard normal distribution\n",
    "W = np.random.randn(3,1)\n",
    "\n",
    "for step in range(1000):\n",
    "    H = np.dot(x_data, W)\n",
    "    loss = np.sum(np.power( H - y_data, 2 )) / (num_points)\n",
    "    z = np.dot( x_data.T, (H - y_data)) / num_points \n",
    "    W = W - 0.05 * z\n",
    "    if step % 100 == 0:\n",
    "        print(step, W.reshape(-1, 3), loss)\n",
    "        \n",
    "print(step, W.reshape(-1, 3), loss) "
   ]
  },
  {
   "cell_type": "code",
   "execution_count": null,
   "metadata": {},
   "outputs": [],
   "source": []
  }
 ],
 "metadata": {
  "kernelspec": {
   "display_name": "Python 3",
   "language": "python",
   "name": "python3"
  },
  "language_info": {
   "codemirror_mode": {
    "name": "ipython",
    "version": 3
   },
   "file_extension": ".py",
   "mimetype": "text/x-python",
   "name": "python",
   "nbconvert_exporter": "python",
   "pygments_lexer": "ipython3",
   "version": "3.6.4"
  }
 },
 "nbformat": 4,
 "nbformat_minor": 2
}
